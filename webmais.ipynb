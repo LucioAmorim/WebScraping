{
 "cells": [
  {
   "cell_type": "code",
   "execution_count": 155,
   "metadata": {},
   "outputs": [
    {
     "name": "stdout",
     "output_type": "stream",
     "text": [
      "Teste de Software\n"
     ]
    }
   ],
   "source": [
    "from urllib.request import urlopen\n",
    "from urllib.error import HTTPError\n",
    "from urllib.error import URLError\n",
    "from bs4 import BeautifulSoup\n",
    "try:\n",
    "    html = urlopen(\"https://www.webmaissistemas.com.br/empresa/trabalhe\")\n",
    "except HTTPError as e:\n",
    "    print(e)\n",
    "except URLError:\n",
    "    print(\"Server down or incorrect domain\")\n",
    "else:\n",
    "    res = BeautifulSoup(html.read(),\"html5lib\")\n",
    "    for Oportunidades in res.findAll(attrs={'class':'titulo'}):\n",
    "        if 'Teste de Software' in Oportunidades.text.strip() or 'Analista de Testes' in Oportunidades.text.strip():\n",
    "            print (Oportunidades.text.strip())\n",
    "        \n",
    "        \n",
    "\n",
    "\n"
   ]
  },
  {
   "cell_type": "markdown",
   "metadata": {},
   "source": []
  },
  {
   "cell_type": "code",
   "execution_count": null,
   "metadata": {},
   "outputs": [],
   "source": []
  }
 ],
 "metadata": {
  "kernelspec": {
   "display_name": "Python 3",
   "language": "python",
   "name": "python3"
  },
  "language_info": {
   "codemirror_mode": {
    "name": "ipython",
    "version": 3
   },
   "file_extension": ".py",
   "mimetype": "text/x-python",
   "name": "python",
   "nbconvert_exporter": "python",
   "pygments_lexer": "ipython3",
   "version": "3.6.5"
  }
 },
 "nbformat": 4,
 "nbformat_minor": 2
}
